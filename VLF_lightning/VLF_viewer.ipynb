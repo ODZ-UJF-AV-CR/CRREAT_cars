{
 "cells": [
  {
   "cell_type": "markdown",
   "metadata": {},
   "source": [
    "## The data grabbed from UHF antenna\n",
    "\n",
    "The Parallella (Pcko) grabbing unit was used to capture triggered data from loop antennas."
   ]
  },
  {
   "cell_type": "code",
   "execution_count": null,
   "metadata": {
    "tags": [
     "parameters"
    ]
   },
   "outputs": [],
   "source": [
    "# Tato bunka slouzi pro papermill, je oznacena tagem 'parameters'\n",
    "\n",
    "path = \"/storage/experiments/2022/0806_bourka_zdiby/parallella-VLF/\"\n",
    "path = \"/storage/experiments/2022/0815_bourka_SlanyMelnik_CAR2/parallella/\"\n",
    "path = \"/storage/experiments/2022/0815_bourka_kralupy_CAR0/parallella-VLF/\"\n",
    "path = \"/storage/experiments/2022/0815_bourka_benesov_CAR1/parallella/\"\n",
    "path = \"/storage/experiments/2022/0816_test_STP_gain/\"\n",
    "path = \"/storage/experiments/2022/0825_bourka_D8_19km_CAR2/parallella-VLF\"\n",
    "path = \"/storage/experiments/2022/0825_bourka_D8_1km_CAR1/parallella/\"\n",
    "path = \"/storage/experiments/2022/0825_bourka_D8_9km_CAR0/parallella-VLF/\"\n",
    "path = \"/storage/experiments/2022/0826_bourka_staryvestec_CAR2/parallella-VLF/\"\n",
    "path = \"/storage/experiments/2022/0826_bourka_staryvestec_CAR0/parallella-VLF/\"\n",
    "path = \"/storage/experiments/2022/0826_bourka_staryvestec_CAR1/parallella/\"\n",
    "path = \"/storage/experiments/2022/0827_bourka_morava_CAR0/parallella-VLF/\"\n",
    "#path = \"/storage/experiments/2022/0827_bourka_morava_CAR0/parallella-VLF\"\n",
    "#path = \"/storage/experiments/2022/0805_bourka_kourim/parallella-VLF/\"\n",
    "#path = \"/storage/experiments/2022/0714_bourka_horovice_CAR1/parallella/\""
   ]
  },
  {
   "cell_type": "code",
   "execution_count": null,
   "metadata": {},
   "outputs": [],
   "source": [
    "import os\n",
    "import sys\n",
    "#sys.path.append('..')\n",
    "#from QFH_lightning.readrec import *\n",
    "from readrec import *\n",
    "import matplotlib\n",
    "from scipy.signal import find_peaks\n",
    "import datetime\n",
    "\n",
    "\n",
    "sps = 10e6 # 10 Msps\n",
    "files = os.listdir(path)\n",
    "times = []\n",
    "\n",
    "for fn in files:\n",
    "    with open(os.path.join(path, fn), 'rb') as f:\n",
    "        if \"png\" not in fn and \"csv\" not in fn:\n",
    "            try:\n",
    "                trigger_time = datetime.datetime.strptime(fn[4:]+\"0000\", \"%y%m%d-%H%M%S.%f\")\n",
    "                times.append([path+fn, str(trigger_time)])\n",
    "                #h, samples, synclog = loadrec(f, skipsamples=True)\n",
    "            except Exception as e:\n",
    "                print(fn, e)\n",
    "                continue\n",
    "\n",
    "print(\"Budou se pouzivat soubory\", files)\n",
    "print(\"Ze slozky\", path)\n",
    "\n",
    "\n",
    "with open(path+'/../triggers.csv', 'w') as f:\n",
    "    for t in times:\n",
    "        f.writelines(\";\".join(t)+\";\\n\")"
   ]
  },
  {
   "cell_type": "code",
   "execution_count": null,
   "metadata": {},
   "outputs": [],
   "source": []
  },
  {
   "cell_type": "markdown",
   "metadata": {},
   "source": [
    "## Plotting of the data"
   ]
  },
  {
   "cell_type": "code",
   "execution_count": null,
   "metadata": {},
   "outputs": [],
   "source": [
    "import os\n",
    "pre_trigger_blocks = 380\n",
    "post_trigger_blocks = 380\n",
    "\n",
    "\n",
    "pre_trigger_blocks = 100\n",
    "post_trigger_blocks = 100\n",
    "\n",
    "\n",
    "matplotlib.rcParams.update({'font.size':15})\n",
    "\n",
    "for fn in reversed(files):\n",
    "    print(fn)\n",
    "    if \".csv\" in files:\n",
    "        continue\n",
    "    with open(os.path.join(path, fn), 'rb') as f:\n",
    "        try:\n",
    "            print(\"File:\", fn)\n",
    "            h, samples, synclog = loadrec(f)\n",
    "            t2s, s2t, ticker, formatter = assign_time_axis(fn, h, synclog)\n",
    "            #print(\"SYNCLOG\", synclog)\n",
    "            for s in synclog:\n",
    "                print(s[1], s[0], s2t(s[0]))\n",
    "            #print(edges((h, samples, synclog)) )\n",
    "            fig = selective_plotrec(h, samples, synclog, os.path.basename(fn),\n",
    "                    title=os.path.basename(fn),\n",
    "                    pre_trigger_blocks = pre_trigger_blocks,\n",
    "                    post_trigger_blocks = post_trigger_blocks,\n",
    "                    marktimes=ticker,\n",
    "                    channels = [0,1,3],\n",
    "                    #channels = [0,1,2,3,4,5,6,7]\n",
    "                    )\n",
    "            \n",
    "            plt.tight_layout()\n",
    "            try:\n",
    "                plt.savefig(os.path.join(path, fn)+'.png')\n",
    "                pass\n",
    "            except Exception as e:\n",
    "                print(e)\n",
    "            #plt.savefig('/home/roman/VLF.png')\n",
    "            plt.show()\n",
    "   \n",
    "        except Exception as e:\n",
    "            print(e)"
   ]
  },
  {
   "cell_type": "code",
   "execution_count": null,
   "metadata": {},
   "outputs": [],
   "source": [
    "a = pd.DataFrame(synclog).sort_values([\"f\", \"w\"]).reset_index()\n",
    "a[\"w\"] = a[\"w\"].diff()\n",
    "a"
   ]
  },
  {
   "cell_type": "markdown",
   "metadata": {},
   "source": [
    "Plot all lightning records (High memory and time consuming)"
   ]
  },
  {
   "cell_type": "code",
   "execution_count": null,
   "metadata": {},
   "outputs": [],
   "source": []
  },
  {
   "cell_type": "markdown",
   "metadata": {},
   "source": [
    "\n"
   ]
  },
  {
   "cell_type": "code",
   "execution_count": null,
   "metadata": {},
   "outputs": [],
   "source": []
  },
  {
   "cell_type": "code",
   "execution_count": null,
   "metadata": {},
   "outputs": [],
   "source": []
  },
  {
   "cell_type": "code",
   "execution_count": null,
   "metadata": {},
   "outputs": [],
   "source": []
  },
  {
   "cell_type": "code",
   "execution_count": null,
   "metadata": {},
   "outputs": [],
   "source": []
  }
 ],
 "metadata": {
  "kernelspec": {
   "display_name": "Python 3",
   "language": "python",
   "name": "ipython_py3"
  },
  "language_info": {
   "codemirror_mode": {
    "name": "ipython",
    "version": 3
   },
   "file_extension": ".py",
   "mimetype": "text/x-python",
   "name": "python",
   "nbconvert_exporter": "python",
   "pygments_lexer": "ipython3",
   "version": "3.8.13"
  }
 },
 "nbformat": 4,
 "nbformat_minor": 4
}
