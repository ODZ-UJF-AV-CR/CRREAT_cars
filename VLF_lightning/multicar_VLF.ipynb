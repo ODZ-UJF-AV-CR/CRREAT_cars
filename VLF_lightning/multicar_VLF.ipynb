{
 "cells": [
  {
   "cell_type": "markdown",
   "metadata": {},
   "source": [
    "## The data grabbed from UHF antenna\n",
    "\n",
    "The Parallella (Pcko) grabbing unit was used to capture triggered data from loop antennas."
   ]
  },
  {
   "cell_type": "code",
   "execution_count": null,
   "metadata": {
    "tags": [
     "parameters"
    ]
   },
   "outputs": [],
   "source": [
    "# Tato bunka slouzi pro papermill, je oznacena tagem 'parameters'\n",
    "\n",
    "path = \"/storage/experiments/2022/0714_bourka_krivoklatsko_CAR2/parallella/\"\n",
    "\n",
    "session = [\n",
    "    \"/storage/experiments/2022/0714_bourka_krivoklatsko_CAR2/parallella/\",\n",
    "    \"/storage/experiments/2022/0714_bourka_horovice_CAR1/parallella/\",\n",
    "    \"/storage/experiments/2022/0714_bourka_CAR0/parallella/\"\n",
    "]"
   ]
  },
  {
   "cell_type": "code",
   "execution_count": null,
   "metadata": {},
   "outputs": [],
   "source": [
    "# Coincidence detector\n",
    "import pandas as pd\n",
    "import numpy as np\n",
    "\n",
    "\n",
    "#car0 = pd.read_csv(\"/storage/experiments/2022/0826_bourka_staryvestec_CAR0/triggers.csv\", delimiter=\";\", names =[\"file\", \"datetime\", \"na\"])\n",
    "#car1 = pd.read_csv(\"/storage/experiments/2022/0826_bourka_staryvestec_CAR1/triggers.csv\", delimiter=\";\", names =[\"file\", \"datetime\", \"na\"])\n",
    "#car2 = pd.read_csv(\"/storage/experiments/2022/0826_bourka_staryvestec_CAR2/triggers.csv\", delimiter=\";\", names =[\"file\", \"datetime\", \"na\"])\n",
    "\n",
    "#car0 = pd.read_csv(\"/storage/experiments/2022/0827_bourka_morava_CAR0/triggers.csv\", delimiter=\";\", names =[\"file\", \"datetime\", \"na\"])\n",
    "car1 = pd.read_csv(\"/storage/experiments/2022/0827_bourka_morava_CAR1/triggers.csv\", delimiter=\";\", names =[\"file\", \"datetime\", \"na\"])\n",
    "car2 = pd.read_csv(\"/storage/experiments/2022/0827_bourka_CAR2/triggers.csv\", delimiter=\";\", names =[\"file\", \"datetime\", \"na\"])\n",
    "\n",
    "car1[\"car\"] = \"CAR1\"\n",
    "car2[\"car\"] = \"CAR2\"\n",
    "#car0[\"car\"] = \"CAR0\""
   ]
  },
  {
   "cell_type": "code",
   "execution_count": null,
   "metadata": {},
   "outputs": [],
   "source": []
  },
  {
   "cell_type": "code",
   "execution_count": null,
   "metadata": {},
   "outputs": [],
   "source": [
    "cars = pd.concat([car0, car1, car2])\n",
    "cars['ts'] = pd.to_datetime(cars['datetime'], utc=True)\n",
    "cars = cars.sort_values(by=['ts']).reset_index()\n",
    "cars['diff'] = cars['ts'].diff()\n",
    "cars"
   ]
  },
  {
   "cell_type": "code",
   "execution_count": null,
   "metadata": {
    "tags": []
   },
   "outputs": [],
   "source": [
    "import datetime\n",
    "clusters = []\n",
    "opened = False\n",
    "\n",
    "for i, r in enumerate(cars[::-1].iterrows()):\n",
    "    j, d = r\n",
    "    #print(i, d['diff'])\n",
    "    if d['diff'] < datetime.timedelta(seconds=2) or opened:\n",
    "        if not opened:\n",
    "            clusters.append([])\n",
    "            print(\".......\")\n",
    "            opened = True\n",
    "        if opened:\n",
    "            clusters[-1].append(r)\n",
    "            print(d['diff'].total_seconds(), d['car'], d['file'])\n",
    "        if not d['diff'] < datetime.timedelta(seconds=2):\n",
    "            opened = False\n",
    "    else:\n",
    "        opened = False\n",
    "clusters"
   ]
  },
  {
   "cell_type": "code",
   "execution_count": null,
   "metadata": {
    "tags": []
   },
   "outputs": [],
   "source": [
    "for c in clusters:\n",
    "    if len(c) > 2:\n",
    "        print(c)"
   ]
  },
  {
   "cell_type": "code",
   "execution_count": null,
   "metadata": {},
   "outputs": [],
   "source": [
    "import matplotlib \n",
    "matplotlib.use('Agg')\n",
    "\n",
    "out = \"/storage/experiments/2022/0826_bourka_staryvestec_CAR2/compare/\"\n",
    "for i, x in enumerate(clusters):\n",
    "    try:\n",
    "        plt.cla()\n",
    "        plt.clf()\n",
    "        if len(x) > 1:\n",
    "            paths = []\n",
    "            print(\"..........\")\n",
    "            for p in x:\n",
    "                #print(p[1]['file']) \n",
    "                paths.append(p[1]['file'])\n",
    "            print(\">>\", paths)\n",
    "            multistation_plotrec(paths)\n",
    "            print(\"Ukladam\", out+str(i)+\".png\")\n",
    "            filename = os.path.basename(p[1]['file'])\n",
    "            plt.savefig(out+filename+\".png\")\n",
    "            print(\"Ulozeno\")\n",
    "            #plt.xlim(14614528/20*2, 14614528/6)\n",
    "            #plt.show()\n",
    "    except Exception as e:\n",
    "        print(\"chyba\", e)"
   ]
  },
  {
   "cell_type": "code",
   "execution_count": null,
   "metadata": {},
   "outputs": [],
   "source": [
    "import os\n",
    "import sys\n",
    "from readrec import *\n",
    "import matplotlib\n",
    "from scipy.signal import find_peaks\n",
    "\n",
    "\n",
    "sps = 10e6 # 10 Msps\n",
    "\n",
    "\n",
    "event = [\n",
    " \"/storage/experiments/2022/0815_bourka_SlanyMelnik_CAR2/parallella/rec_220815-142820.68\", \n",
    " \"/storage/experiments/2022/0815_bourka_kralupy_CAR0/parallella-VLF/rec_220815-142820.64\",\n",
    "# \"/storage/experiments/2022/0815_bourka_benesov_CAR1/parallella/rec_220815-142821.68\"\n",
    "]\n",
    "\n",
    "'''\n",
    "event = [\n",
    "    \"/storage/experiments/2022/0815_bourka_SlanyMelnik_CAR2/parallella/rec_220815-144143.86\",\n",
    "    \"/storage/experiments/2022/0815_bourka_kralupy_CAR0/parallella-VLF/rec_220815-144143.84\"\n",
    "]\n",
    "\n",
    "event = [\n",
    "   \"/storage/experiments/2022/0815_bourka_SlanyMelnik_CAR2/parallella/rec_220815-150322.11\",\n",
    "    \"/storage/experiments/2022/0815_bourka_kralupy_CAR0/parallella-VLF/rec_220815-150320.91\"\n",
    "]\n",
    "'''\n",
    "\n",
    "event = [\n",
    "    \"/storage/experiments/2022/0825_bourka_D8_9km_CAR0/parallella-VLF/rec_220825-171705.28\",\n",
    "    \"/storage/experiments/2022/0825_bourka_D8_1km_CAR1/parallella/rec_220825-171706.27\",\n",
    "    \"/storage/experiments/2022/0825_bourka_D8_19km_CAR2/parallella-VLF/rec_220825-171704.91\"\n",
    "]\n",
    "out = \"/storage/experiments/2022/0825_bourka_D8_19km_CAR2/Compare_220825-171704.png\"\n",
    "\n",
    "event = [\n",
    "    \"/storage/experiments/2022/0825_bourka_D8_9km_CAR0/parallella-VLF/rec_220825-171400.04\",\n",
    "    \"/storage/experiments/2022/0825_bourka_D8_1km_CAR1/parallella/rec_220825-171359.92\",\n",
    "    \"/storage/experiments/2022/0825_bourka_D8_19km_CAR2/parallella-VLF/rec_220825-171401.04\"\n",
    "]\n",
    "out = \"/storage/experiments/2022/0825_bourka_D8_19km_CAR2/Compare_220825-171401.png\"\n",
    "\n",
    "event = [\n",
    "    \"/storage/experiments/2022/0825_bourka_D8_9km_CAR0/parallella-VLF/rec_220825-171022.00\",\n",
    "    \"/storage/experiments/2022/0825_bourka_D8_19km_CAR2/parallella-VLF/rec_220825-171023.92\"\n",
    "]\n",
    "out = \"/storage/experiments/2022/0825_bourka_D8_19km_CAR2/Compare_220825-171022.png\"\n",
    "\n",
    "event = [\n",
    "    \"/storage/experiments/2022/0825_bourka_D8_9km_CAR0/parallella-VLF/rec_220825-170347.25\",\n",
    "    \"/storage/experiments/2022/0825_bourka_D8_1km_CAR1/parallella/rec_220825-170346.41\",\n",
    "    \"/storage/experiments/2022/0825_bourka_D8_19km_CAR2/parallella-VLF/rec_220825-170348.45\"\n",
    "]\n",
    "out = \"/storage/experiments/2022/0825_bourka_D8_19km_CAR2/Compare_220825-170348.png\"\n",
    "\n",
    "# event = [\n",
    "#     \"/storage/experiments/2022/0825_bourka_D8_9km_CAR0/parallella-VLF/rec_220825-170158.35\",\n",
    "#     \"/storage/experiments/2022/0825_bourka_D8_1km_CAR1/parallella/rec_220825-170158.57\",\n",
    "#     \"/storage/experiments/2022/0825_bourka_D8_19km_CAR2/parallella-VLF/rec_220825-170200.51\"\n",
    "# ]\n",
    "# out = \"/storage/experiments/2022/0825_bourka_D8_19km_CAR2/Compare_220825-170200.png\"\n",
    "\n",
    "\n",
    "# event = [\n",
    "# \"/storage/experiments/2022/0825_bourka_D8_9km_CAR0/parallella-VLF/rec_220825-165949.66\",\n",
    "# \"/storage/experiments/2022/0825_bourka_D8_1km_CAR1/parallella/rec_220825-165949.69\",\n",
    "# \"/storage/experiments/2022/0825_bourka_D8_19km_CAR2/parallella-VLF/rec_220825-165950.96\"\n",
    "# ]\n",
    "\n",
    "# out =  \"/storage/experiments/2022/0825_bourka_D8_19km_CAR2/Compare_220825-165949.png\"\n",
    "\n",
    "# event = [\n",
    "#     \"/storage/experiments/2022/0825_bourka_D8_9km_CAR0/parallella-VLF/rec_220825-165814.09\",\n",
    "#     \"/storage/experiments/2022/0825_bourka_D8_1km_CAR1/parallella/rec_220825-165814.43\",\n",
    "#     \"/storage/experiments/2022/0825_bourka_D8_19km_CAR2/parallella-VLF/rec_220825-165814.34\",\n",
    "# ]\n",
    "\n",
    "# out = \"/storage/experiments/2022/0825_bourka_D8_19km_CAR2/Compare_220825-165814.png\"\n",
    "\n",
    "# event = [\n",
    "#  \"/storage/experiments/2022/0825_bourka_D8_9km_CAR0/parallella-VLF/rec_220825-164815.85\",\n",
    "#     \"/storage/experiments/2022/0825_bourka_D8_1km_CAR1/parallella/rec_220825-164815.24\",\n",
    "#     \"/storage/experiments/2022/0825_bourka_D8_19km_CAR2/parallella-VLF/rec_220825-164816.24\"\n",
    "# ]\n",
    "\n",
    "# out = \"/storage/experiments/2022/0825_bourka_D8_19km_CAR2/Compare_220825-164816.png\"\n",
    "\n",
    "event = [\"/storage/experiments/2022/0826_bourka_staryvestec_CAR0/parallella-VLF/rec_220826-175301.51\",\n",
    "         \"/storage/experiments/2022/0826_bourka_staryvestec_CAR1/parallella/rec_220826-175300.18\"]\n",
    "out = \"/home/roman/test.png\""
   ]
  },
  {
   "cell_type": "code",
   "execution_count": null,
   "metadata": {},
   "outputs": [],
   "source": [
    "def multistation_plotrec(files):\n",
    "    \n",
    "    channels = [0,1,3]\n",
    "    fig, (ax) = plt.subplots(figsize=(35, 20), nrows=len(channels)*len(files), sharex=True)\n",
    "    title = None\n",
    "    \n",
    "    data = {f:{\"filename\": f} for f in files}\n",
    "    print(data)\n",
    "    \n",
    "    mintime = None\n",
    "    \n",
    "    for j, filepath in enumerate(data):\n",
    "        print(j, filepath)\n",
    "        try:\n",
    "            with open(filepath, 'rb') as file:\n",
    "                fn = os.path.basename(filepath)\n",
    "                h, samples, synclog = loadrec(file)\n",
    "                t2s, s2t, ticker, formatter = assign_time_axis(fn, h, synclog)\n",
    "\n",
    "                time = s2t(0)\n",
    "                if not mintime:\n",
    "                    mintime = time\n",
    "                if mintime > time:\n",
    "                    mintime = time\n",
    "        except Exception as e:\n",
    "            print(\"Vyjimka 1\", e)\n",
    "\n",
    "\n",
    "    print(\"Znam minimalni cas\", mintime)\n",
    "    \n",
    "    for j, filepath in enumerate(data):\n",
    "        print(j, filepath)\n",
    "        try:\n",
    "            with open(filepath, 'rb') as file:\n",
    "                fn = os.path.basename(filepath)\n",
    "\n",
    "                h, samples, synclog = loadrec(file)\n",
    "                t2s, s2t, ticker, formatter = assign_time_axis(fn, h, synclog)\n",
    "                print(\"zacatek\", s2t(0))\n",
    "                offset = -int(t2s(mintime))\n",
    "                #print(\"offset\", offset)\n",
    "\n",
    "                if title is not None:\n",
    "                    fig.suptitle(title)\n",
    "\n",
    "                for i, ch in enumerate(channels):\n",
    "                    i += len(channels)*j\n",
    "                    #print(i)\n",
    "\n",
    "                    pre_trigger_blocks = h['preTrigger']\n",
    "                    post_trigger_blocks = h['postTrigger']\n",
    "\n",
    "                    a = (h['preTrigger']-pre_trigger_blocks)*h['descSpan']//16 #select block of samples before trigger\n",
    "                    b = (h['preTrigger']+post_trigger_blocks)*h['descSpan']//16  #select blocks after trigger \n",
    "                    #print(a, b)\n",
    "\n",
    "                    signal_samples = samples[a:b,ch]\n",
    "                    #print(a, b, len(samples[:,0]))\n",
    "\n",
    "                    axis_plotrec(ax[i], h, signal_samples, a+offset, b+offset, ticker, formatter, str(\"{}, channel: {}\".format(filepath, ch)))\n",
    "        except Exception as e:\n",
    "            print(\"Vyjimka\", e)\n",
    "        print(\"Done\", fn)\n",
    "\n",
    "    return fig"
   ]
  },
  {
   "cell_type": "code",
   "execution_count": null,
   "metadata": {},
   "outputs": [],
   "source": [
    "multistation_plotrec(event)\n",
    "plt.savefig(out)\n",
    "#plt.xlim(14614528/20*2, 14614528/6)\n",
    "plt.show()"
   ]
  },
  {
   "cell_type": "code",
   "execution_count": null,
   "metadata": {},
   "outputs": [],
   "source": []
  },
  {
   "cell_type": "code",
   "execution_count": null,
   "metadata": {},
   "outputs": [],
   "source": []
  },
  {
   "cell_type": "markdown",
   "metadata": {},
   "source": [
    "## Plotting of the data"
   ]
  },
  {
   "cell_type": "code",
   "execution_count": null,
   "metadata": {},
   "outputs": [],
   "source": [
    "import os\n",
    "pre_trigger_blocks = 380\n",
    "post_trigger_blocks = 380\n",
    "\n",
    "\n",
    "pre_trigger_blocks = 100\n",
    "post_trigger_blocks = 100\n",
    "\n",
    "\n",
    "matplotlib.rcParams.update({'font.size':15})\n",
    "\n",
    "for fn in event:\n",
    "    print(fn)\n",
    "    if \".csv\" in files:\n",
    "        continue\n",
    "    with open(os.path.join(path, fn), 'rb') as f:\n",
    "        try:\n",
    "            print(\"File:\", fn)\n",
    "            h, samples, synclog = loadrec(f)\n",
    "            t2s, s2t, ticker, formatter = assign_time_axis(fn, h, synclog)\n",
    "            fig = selective_plotrec(h, samples, synclog, os.path.basename(fn),\n",
    "                    title=os.path.basename(fn),\n",
    "                    pre_trigger_blocks = pre_trigger_blocks,\n",
    "                    post_trigger_blocks = post_trigger_blocks,\n",
    "                    marktimes=ticker,\n",
    "                    channels = [0,1,3],\n",
    "                    #channels = [0,1,2,3,4,5,6,7]\n",
    "                    )\n",
    "            \n",
    "            plt.tight_layout()\n",
    "            try:\n",
    "                plt.savefig(os.path.join(path, fn)+'.png')\n",
    "            except Exception as e:\n",
    "                print(e)\n",
    "            #plt.savefig('/home/roman/UHF.png')\n",
    "            plt.show()\n",
    "   \n",
    "        except Exception as e:\n",
    "            print(e)"
   ]
  },
  {
   "cell_type": "markdown",
   "metadata": {},
   "source": [
    "Plot all lightning records (High memory and time consuming)"
   ]
  },
  {
   "cell_type": "code",
   "execution_count": null,
   "metadata": {},
   "outputs": [],
   "source": []
  },
  {
   "cell_type": "markdown",
   "metadata": {},
   "source": [
    "\n"
   ]
  },
  {
   "cell_type": "code",
   "execution_count": null,
   "metadata": {},
   "outputs": [],
   "source": []
  },
  {
   "cell_type": "code",
   "execution_count": null,
   "metadata": {},
   "outputs": [],
   "source": [
    "from readrec import selective_plotrec"
   ]
  },
  {
   "cell_type": "code",
   "execution_count": null,
   "metadata": {},
   "outputs": [],
   "source": []
  },
  {
   "cell_type": "code",
   "execution_count": null,
   "metadata": {},
   "outputs": [],
   "source": []
  }
 ],
 "metadata": {
  "kernelspec": {
   "display_name": "Python 3",
   "language": "python",
   "name": "ipython_py3"
  },
  "language_info": {
   "codemirror_mode": {
    "name": "ipython",
    "version": 3
   },
   "file_extension": ".py",
   "mimetype": "text/x-python",
   "name": "python",
   "nbconvert_exporter": "python",
   "pygments_lexer": "ipython3",
   "version": "3.8.13"
  }
 },
 "nbformat": 4,
 "nbformat_minor": 4
}
