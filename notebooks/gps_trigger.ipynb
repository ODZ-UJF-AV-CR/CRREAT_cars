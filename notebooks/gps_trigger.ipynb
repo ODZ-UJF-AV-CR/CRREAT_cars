{
 "cells": [
  {
   "cell_type": "code",
   "execution_count": 16,
   "id": "56cd441b-d5e5-495f-8ca8-5faf2ea4e57b",
   "metadata": {},
   "outputs": [],
   "source": [
    "import pandas as pd\n",
    "import datetime"
   ]
  },
  {
   "cell_type": "markdown",
   "id": "665571f0-04ca-4352-a435-8e5190b407f0",
   "metadata": {
    "tags": []
   },
   "source": [
    "# Prohližečka a estimátor časových značek z uBlox GPS\n"
   ]
  },
  {
   "cell_type": "code",
   "execution_count": 4,
   "id": "7c697c3e-0d6a-401b-a9d4-d1af65715940",
   "metadata": {},
   "outputs": [],
   "source": [
    "file = \"/storage/experiments/2022/0904_test_CAR2/trigger/CARx_20220904_202532.csv\""
   ]
  },
  {
   "cell_type": "code",
   "execution_count": 49,
   "id": "a73e21c3-3d63-4a20-9744-be6a969a6b98",
   "metadata": {},
   "outputs": [
    {
     "name": "stdout",
     "output_type": "stream",
     "text": [
      "Index(['sys_datetime', 'channel', 'mode', 'run', 'newFallingEdge', 'timeBase',\n",
      "       'utc', 'time', 'newRisingEdge', 'count', 'wnR', 'wnF', 'towMsR',\n",
      "       'toSubMsR', 'toMsF', 'towSubMsF', 'accEst', 'Unnamed: 17', 'riseTime',\n",
      "       'fallTime', 'week_start', 'day_start', 'RisingEdge', 'FallingEdge',\n",
      "       'towR', 'towF'],\n",
      "      dtype='object')\n"
     ]
    },
    {
     "data": {
      "text/html": [
       "<div>\n",
       "<style scoped>\n",
       "    .dataframe tbody tr th:only-of-type {\n",
       "        vertical-align: middle;\n",
       "    }\n",
       "\n",
       "    .dataframe tbody tr th {\n",
       "        vertical-align: top;\n",
       "    }\n",
       "\n",
       "    .dataframe thead th {\n",
       "        text-align: right;\n",
       "    }\n",
       "</style>\n",
       "<table border=\"1\" class=\"dataframe\">\n",
       "  <thead>\n",
       "    <tr style=\"text-align: right;\">\n",
       "      <th></th>\n",
       "      <th>RisingEdge</th>\n",
       "      <th>FallingEdge</th>\n",
       "    </tr>\n",
       "  </thead>\n",
       "  <tbody>\n",
       "    <tr>\n",
       "      <th>0</th>\n",
       "      <td>2022-09-04 20:25:33.837509845</td>\n",
       "      <td>2022-09-04 20:25:33.737296934</td>\n",
       "    </tr>\n",
       "    <tr>\n",
       "      <th>1</th>\n",
       "      <td>2022-09-04 20:25:35.840165878</td>\n",
       "      <td>2022-09-04 20:25:35.739901420</td>\n",
       "    </tr>\n",
       "    <tr>\n",
       "      <th>2</th>\n",
       "      <td>2022-09-04 20:25:37.841985396</td>\n",
       "      <td>2022-09-04 20:25:37.741764188</td>\n",
       "    </tr>\n",
       "    <tr>\n",
       "      <th>3</th>\n",
       "      <td>2022-09-04 20:25:39.844116864</td>\n",
       "      <td>2022-09-04 20:25:39.743785563</td>\n",
       "    </tr>\n",
       "    <tr>\n",
       "      <th>4</th>\n",
       "      <td>2022-09-04 20:25:41.845756839</td>\n",
       "      <td>2022-09-04 20:25:41.745527959</td>\n",
       "    </tr>\n",
       "    <tr>\n",
       "      <th>...</th>\n",
       "      <td>...</td>\n",
       "      <td>...</td>\n",
       "    </tr>\n",
       "    <tr>\n",
       "      <th>93</th>\n",
       "      <td>2022-09-04 20:29:52.253819310</td>\n",
       "      <td>2022-09-04 20:29:53.962314207</td>\n",
       "    </tr>\n",
       "    <tr>\n",
       "      <th>94</th>\n",
       "      <td>2022-09-04 20:29:54.766688166</td>\n",
       "      <td>2022-09-04 20:29:53.962314207</td>\n",
       "    </tr>\n",
       "    <tr>\n",
       "      <th>95</th>\n",
       "      <td>2022-09-04 20:29:54.766688166</td>\n",
       "      <td>2022-09-04 20:29:55.806642811</td>\n",
       "    </tr>\n",
       "    <tr>\n",
       "      <th>96</th>\n",
       "      <td>2022-09-04 20:29:56.553667006</td>\n",
       "      <td>2022-09-04 20:29:56.553619803</td>\n",
       "    </tr>\n",
       "    <tr>\n",
       "      <th>97</th>\n",
       "      <td>2022-09-04 20:29:58.331935261</td>\n",
       "      <td>2022-09-04 20:29:58.258612288</td>\n",
       "    </tr>\n",
       "  </tbody>\n",
       "</table>\n",
       "<p>98 rows × 2 columns</p>\n",
       "</div>"
      ],
      "text/plain": [
       "                      RisingEdge                   FallingEdge\n",
       "0  2022-09-04 20:25:33.837509845 2022-09-04 20:25:33.737296934\n",
       "1  2022-09-04 20:25:35.840165878 2022-09-04 20:25:35.739901420\n",
       "2  2022-09-04 20:25:37.841985396 2022-09-04 20:25:37.741764188\n",
       "3  2022-09-04 20:25:39.844116864 2022-09-04 20:25:39.743785563\n",
       "4  2022-09-04 20:25:41.845756839 2022-09-04 20:25:41.745527959\n",
       "..                           ...                           ...\n",
       "93 2022-09-04 20:29:52.253819310 2022-09-04 20:29:53.962314207\n",
       "94 2022-09-04 20:29:54.766688166 2022-09-04 20:29:53.962314207\n",
       "95 2022-09-04 20:29:54.766688166 2022-09-04 20:29:55.806642811\n",
       "96 2022-09-04 20:29:56.553667006 2022-09-04 20:29:56.553619803\n",
       "97 2022-09-04 20:29:58.331935261 2022-09-04 20:29:58.258612288\n",
       "\n",
       "[98 rows x 2 columns]"
      ]
     },
     "execution_count": 49,
     "metadata": {},
     "output_type": "execute_result"
    }
   ],
   "source": [
    "df = pd.read_csv(file)\n",
    "df[\"riseTime\"] = df[\"towMsR\"]+df[\"toSubMsR\"]/1000000000\n",
    "df[\"fallTime\"] = df[\"toMsF\"]+df[\"towSubMsF\"]/1000000000\n",
    "#df[\"sys_datetime\"] = datetime.datetime.fromisoformat(df[\"sys_datetime\"])\n",
    "df[\"sys_datetime\"] = pd.to_datetime(df[\"sys_datetime\"])\n",
    "df[\"week_start\"] = (df[\"sys_datetime\"] - pd.to_timedelta(arg=df['sys_datetime'].dt.weekday, unit='D')).dt.date\n",
    "#df[\"day_start\"] = df[\"sys_datetime\"].replace(hour=0, minute=0, second=0, misilecond=0, nanosecond=0)\n",
    "df[\"day_start\"] = df[\"sys_datetime\"].dt.floor('D')\n",
    "\n",
    "df[\"RisingEdge\"] = pd.to_datetime(df[\"day_start\"]) + pd.to_timedelta(df[\"towMsR\"], 'ms') + pd.to_timedelta(df[\"toSubMsR\"], 'ns')\n",
    "df[\"FallingEdge\"]= pd.to_datetime(df[\"day_start\"]) + pd.to_timedelta(df[\"toMsF\"], 'ms')  + pd.to_timedelta(df[\"towSubMsF\"], 'ns')\n",
    "\n",
    "df[\"towR\"] = pd.to_datetime(df[\"sys_datetime\"]) - (pd.to_timedelta(df[\"towMsR\"], 'ms') + pd.to_timedelta(df[\"toSubMsR\"], 'ns'))\n",
    "df[\"towF\"]= pd.to_datetime(df[\"sys_datetime\"]) - (pd.to_timedelta(df[\"toMsF\"], 'ms')  + pd.to_timedelta(df[\"towSubMsF\"], 'ns'))\n",
    "\n",
    "print(df.columns)\n",
    "df[['RisingEdge', 'FallingEdge']]"
   ]
  },
  {
   "cell_type": "code",
   "execution_count": null,
   "id": "f75cc4ac-3a66-4d1e-9a3c-66445590be75",
   "metadata": {},
   "outputs": [],
   "source": []
  }
 ],
 "metadata": {
  "kernelspec": {
   "display_name": "Python 3",
   "language": "python",
   "name": "ipython_py3"
  },
  "language_info": {
   "codemirror_mode": {
    "name": "ipython",
    "version": 3
   },
   "file_extension": ".py",
   "mimetype": "text/x-python",
   "name": "python",
   "nbconvert_exporter": "python",
   "pygments_lexer": "ipython3",
   "version": "3.8.13"
  }
 },
 "nbformat": 4,
 "nbformat_minor": 5
}
