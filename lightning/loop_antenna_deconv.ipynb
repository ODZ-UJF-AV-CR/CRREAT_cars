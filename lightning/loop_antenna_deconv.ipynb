version https://git-lfs.github.com/spec/v1
oid sha256:404615d1c7a75069aa2cdacbdf0f85532ee9e88005d8679e06eeb5182849ff22
size 105874
