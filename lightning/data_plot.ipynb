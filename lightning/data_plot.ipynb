version https://git-lfs.github.com/spec/v1
oid sha256:9f4c67c96111254ff9fe4f536b2a4ec325e1a5132feb4615b0113f2ad66f50ec
size 118302
