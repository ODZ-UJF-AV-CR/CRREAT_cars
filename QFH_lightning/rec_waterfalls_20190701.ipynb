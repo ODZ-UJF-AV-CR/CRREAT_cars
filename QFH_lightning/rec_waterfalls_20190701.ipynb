version https://git-lfs.github.com/spec/v1
oid sha256:a4c495f122e7e04edd426d053dbd041b072c5688017848096a429f409663e888
size 42111875
