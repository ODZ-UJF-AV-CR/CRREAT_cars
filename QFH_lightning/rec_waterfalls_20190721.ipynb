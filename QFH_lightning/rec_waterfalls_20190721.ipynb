version https://git-lfs.github.com/spec/v1
oid sha256:a7943ea737bd15b65ac8e3b7794df8be7e8dc683902d02107ea0628cd23479ac
size 15196097
