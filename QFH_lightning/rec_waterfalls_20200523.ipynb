version https://git-lfs.github.com/spec/v1
oid sha256:2fbbe8d102dcf802231a6b549765ca9f4e6bd78f4fc2f7c1f21bbd711da1e640
size 5167188
