version https://git-lfs.github.com/spec/v1
oid sha256:5956b67958e0fc0282a0835ddbb148b4bd31bb7d0fe2a092f88b8bc740aa9d96
size 20187143
