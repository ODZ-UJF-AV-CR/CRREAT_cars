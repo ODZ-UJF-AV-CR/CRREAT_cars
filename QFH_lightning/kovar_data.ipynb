version https://git-lfs.github.com/spec/v1
oid sha256:23db2d112c4a04e95b2650d5aab91024fa825aa7710410bc20707e705be1a6ef
size 5997896
