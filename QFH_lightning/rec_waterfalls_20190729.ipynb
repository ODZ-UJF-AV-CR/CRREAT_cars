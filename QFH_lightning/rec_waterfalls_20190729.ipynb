version https://git-lfs.github.com/spec/v1
oid sha256:ac3fdd78096ed810732e729dc47e53c66aa8c39099aab88a6330801e8f1030b2
size 77492085
